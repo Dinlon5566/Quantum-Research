{
  "nbformat": 4,
  "nbformat_minor": 0,
  "metadata": {
    "colab": {
      "provenance": []
    },
    "kernelspec": {
      "name": "python3",
      "display_name": "Python 3"
    },
    "language_info": {
      "name": "python"
    }
  },
  "cells": [
    {
      "cell_type": "code",
      "execution_count": null,
      "metadata": {
        "id": "rf9s2D790gdV"
      },
      "outputs": [],
      "source": [
        "!pip uninstall -y qiskit qiskit-terra\n",
        "!pip freeze | grep qiskit | xargs pip uninstall -y\n",
        "!pip install qiskit -q\n",
        "!pip install qiskit-aer -q\n",
        "!pip install matplotlib -q\n",
        "!pip install pylatexenc -q\n",
        "!pip install qiskit-ibm-runtime -q\n",
        "import os\n",
        "import numpy as np\n",
        "import matplotlib.pyplot as plt\n",
        "from qiskit.visualization import plot_histogram, plot_bloch_multivector\n",
        "%matplotlib inline\n",
        "from qiskit import QuantumCircuit, transpile\n",
        "from qiskit_aer import Aer\n",
        "from qiskit.quantum_info import Statevector\n",
        "from qiskit_ibm_runtime import QiskitRuntimeService, Session, Sampler"
      ]
    },
    {
      "cell_type": "markdown",
      "source": [
        "# 練習題目"
      ],
      "metadata": {
        "id": "As-p6dvS0rMs"
      }
    },
    {
      "cell_type": "markdown",
      "source": [
        "1. *Dense Coding*\n"
      ],
      "metadata": {
        "id": "XRHSY-9B00Vg"
      }
    },
    {
      "cell_type": "code",
      "source": [],
      "metadata": {
        "id": "f_YFV0ws0qDO"
      },
      "execution_count": null,
      "outputs": []
    },
    {
      "cell_type": "markdown",
      "source": [
        "2. *GHZ state*"
      ],
      "metadata": {
        "id": "XYmpngP101u5"
      }
    },
    {
      "cell_type": "code",
      "source": [],
      "metadata": {
        "id": "lJ_IDJRrVlCa"
      },
      "execution_count": null,
      "outputs": []
    },
    {
      "cell_type": "markdown",
      "source": [
        "3. *W state*  \n",
        "https://en.wikipedia.org/wiki/W_state\n",
        "\n"
      ],
      "metadata": {
        "id": "E-jqvQASV1eU"
      }
    },
    {
      "cell_type": "code",
      "source": [],
      "metadata": {
        "id": "u_ousOuoV1k0"
      },
      "execution_count": null,
      "outputs": []
    },
    {
      "cell_type": "markdown",
      "source": [
        "# 輸出測試\n"
      ],
      "metadata": {
        "id": "NzHvlXjI0vXv"
      }
    },
    {
      "cell_type": "code",
      "execution_count": null,
      "metadata": {
        "id": "nE_QQm2Tqsny"
      },
      "outputs": [],
      "source": [
        "# 繪製電路\n",
        "circuit.draw(output='mpl', filename='fig.png')\n",
        "from IPython.display import Image\n",
        "Image('/content/fig.png')"
      ]
    },
    {
      "cell_type": "code",
      "execution_count": null,
      "metadata": {
        "id": "pwMMmVXNsRMR"
      },
      "outputs": [],
      "source": [
        "# 繪製布洛赫球面\n",
        "qc_no_measure= circuit.remove_final_measurements(inplace=False)\n",
        "state = Statevector.from_instruction(qc_no_measure)\n",
        "plot_bloch_multivector(state)"
      ]
    },
    {
      "cell_type": "code",
      "execution_count": null,
      "metadata": {
        "id": "gQLfm8-eqsny"
      },
      "outputs": [],
      "source": [
        "# 模擬並繪製長條圖\n",
        "backend = Aer.get_backend('qasm_simulator')\n",
        "tqc = transpile(circuit, backend)\n",
        "result = backend.run(tqc).result()\n",
        "counts = result.get_counts(tqc)\n",
        "plot_histogram(counts)"
      ]
    }
  ]
}