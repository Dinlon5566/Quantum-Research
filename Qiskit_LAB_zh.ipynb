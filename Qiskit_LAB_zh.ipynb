{
  "cells": [
    {
      "cell_type": "markdown",
      "metadata": {
        "id": "9Dx89lLhVQ9A"
      },
      "source": [
        "# 量子電路設計實作\n",
        "> 若有任何疑問或需要進一步說明，請聯絡:   \n",
        "> 丁  admin@dinlon5566.com  \n",
        "\n",
        "## 介紹\n",
        "\n",
        "本筆記包含使用 Qiskit 進行量子電路設計的操作教學，包括安裝與基礎電路設計。最後有一些練習題。"
      ]
    },
    {
      "cell_type": "markdown",
      "metadata": {
        "id": "qbijElJ4t-P3"
      },
      "source": [
        "## 1. 安裝 Qiskit\n"
      ]
    },
    {
      "cell_type": "markdown",
      "metadata": {
        "id": "y88fx4voLDyy"
      },
      "source": [
        "由於colab中含有許多版本衝突問題，需先重新安裝後才能使用。\n",
        "\n",
        "[手動安裝說明](https://docs.quantum.ibm.com/migration-guides/qiskit-1.0-installation#import-qiskit-raises-importerror)\n",
        "若執行時有衝突問題，請用以下方式檢查:\n",
        "```\n",
        "!pip install pipdeptree -q\n",
        "!pipdeptree --reverse --package qiskit-terra\n",
        "!pipdeptree --reverse --package qiskit\n",
        "```"
      ]
    },
    {
      "cell_type": "code",
      "execution_count": null,
      "metadata": {
        "id": "jRpJK49iV6CZ"
      },
      "outputs": [],
      "source": [
        "# 安裝必要的模組\n",
        "!pip uninstall -y qiskit qiskit-terra\n",
        "!pip freeze | grep qiskit | xargs pip uninstall -y\n",
        "!pip install qiskit -q\n",
        "!pip install qiskit-aer -q\n",
        "!pip install matplotlib -q\n",
        "!pip install pylatexenc -q\n",
        "!pip install qiskit-ibm-runtime -q\n"
      ]
    },
    {
      "cell_type": "code",
      "execution_count": null,
      "metadata": {
        "id": "-8fawGmlcmdW"
      },
      "outputs": [],
      "source": [
        "# 系統和數據處理\n",
        "import os\n",
        "import numpy as np\n",
        "\n",
        "# 可視化\n",
        "import matplotlib.pyplot as plt\n",
        "from qiskit.visualization import plot_histogram, plot_bloch_multivector\n",
        "%matplotlib inline\n",
        "\n",
        "# Qiskit 基礎和運行時環境\n",
        "from qiskit import QuantumCircuit, transpile\n",
        "from qiskit_aer import Aer  # 模擬器\n",
        "from qiskit.quantum_info import Statevector\n",
        "\n",
        "# Qiskit IBM Quantum Service 和運行時\n",
        "from qiskit_ibm_runtime import QiskitRuntimeService, Session, Sampler\n"
      ]
    },
    {
      "cell_type": "markdown",
      "metadata": {
        "id": "dvXsc0azYnbw"
      },
      "source": [
        "## 2. 基本量子電路範例\n",
        "這段程式中有常見的操作與測量方式。\n"
      ]
    },
    {
      "cell_type": "code",
      "execution_count": null,
      "metadata": {
        "id": "wQMOlV-ZltiK"
      },
      "outputs": [],
      "source": [
        "# 創建量子電路，包含 3 個量子位和 3 個經典位，並將量子位設定置ket 0。\n",
        "qc = QuantumCircuit(3, 3)\n",
        "qc.reset(0)\n",
        "qc.reset(1)\n",
        "qc.reset(2)\n",
        "\n",
        "# 1. X 閘: 對量子位 q_0 進行 X 操作\n",
        "qc.x(0)  # X gate on qubit 0\n",
        "qc.barrier()  # 障礙來視覺上分離電路步驟\n",
        "\n",
        "# 2. Hadamard 閘: 對量子位 q_1 進行 Hadamard 操作\n",
        "qc.h(1)  # H gate on qubit 1\n",
        "qc.barrier()\n",
        "\n",
        "# 3. Z 閘: 對量子位 q_1 進行 Z 操作\n",
        "qc.z(1)  # Z gate on qubit 1\n",
        "qc.barrier()\n",
        "\n",
        "# 4. CNOT 閘: 控制位是 q_1，目標位是 q_2\n",
        "qc.cx(1, 2)  # CNOT gate with control qubit 1 and target qubit 2\n",
        "qc.barrier()\n",
        "\n",
        "# 5. T 閘: 對量子位 q_2 進行 T 操作\n",
        "qc.t(2)  # T gate on qubit 2\n",
        "qc.barrier()\n",
        "\n",
        "# 6. 旋轉操作: 對量子位進行不同軸的旋轉\n",
        "qc.rx(np.pi / 4, 0)  # RX rotation on qubit 0 by pi/4\n",
        "qc.ry(np.pi / 4, 1)  # RY rotation on qubit 1 by pi/4\n",
        "qc.rz(np.pi / 4, 2)  # RZ rotation on qubit 2 by pi/4\n",
        "qc.barrier()\n",
        "\n",
        "# 7. 測量: 測量所有量子位\n",
        "qc.measure([0, 1, 2], [0, 1, 2])  # Measure all qubits into classical bits\n",
        "\n",
        "# 這邊應該會出現像是\n",
        "# \"<qiskit.circuit.instructionset.InstructionSet at 0x7f4d69d6e800>\"\n",
        "# 代表成功。"
      ]
    },
    {
      "cell_type": "code",
      "execution_count": null,
      "metadata": {
        "id": "W8HqWkY1l5lw"
      },
      "outputs": [],
      "source": [
        "# 繪製電路，並顯示(由於他不會直接顯示，需先存成檔案再輸出)\n",
        "qc.draw(output='mpl', filename='fig.png')\n",
        "from IPython.display import Image\n",
        "Image('/content/fig.png')"
      ]
    },
    {
      "cell_type": "code",
      "execution_count": null,
      "metadata": {
        "id": "zwUuGkGQmAm8"
      },
      "outputs": [],
      "source": [
        "# 繪製布洛赫球面，不能與上面繪製電路同時顯示，不知道為甚麼 : (\n",
        "# 從量子電路中移除測量操作\n",
        "qc_no_measure= qc.remove_final_measurements(inplace=False)\n",
        "# 創建量子態向量\n",
        "state = Statevector.from_instruction(qc_no_measure)\n",
        "# 繪製布洛赫球\n",
        "plot_bloch_multivector(state)"
      ]
    },
    {
      "cell_type": "code",
      "execution_count": null,
      "metadata": {
        "id": "vauaQXCOnWjB"
      },
      "outputs": [],
      "source": [
        "# 模擬量子狀態並繪製結果長條圖\n",
        "backend = Aer.get_backend('qasm_simulator')\n",
        "tqc = transpile(qc, backend)\n",
        "result = backend.run(tqc).result()\n",
        "counts = result.get_counts(tqc)\n",
        "plot_histogram(counts)"
      ]
    },
    {
      "cell_type": "markdown",
      "metadata": {
        "id": "LaLWEuyyo7Oi"
      },
      "source": [
        "## 3.練習\n",
        "1. 在 IBM composer 繪製好電路後，複製右方 **Qiskit 全部** 程式碼，並貼到下方程式區。\n",
        "2. 先執行題目中你寫的電路，在執行最下方的繪製。\n",
        "\n"
      ]
    },
    {
      "cell_type": "markdown",
      "metadata": {
        "id": "cnMxgDI9uFBW"
      },
      "source": [
        "### 3-0. 範例"
      ]
    },
    {
      "cell_type": "code",
      "execution_count": null,
      "metadata": {
        "id": "Xk7NL_strsP9"
      },
      "outputs": [],
      "source": [
        "from qiskit import QuantumRegister, ClassicalRegister, QuantumCircuit\n",
        "from numpy import pi\n",
        "\n",
        "qreg_q = QuantumRegister(2, 'q')\n",
        "creg_c = ClassicalRegister(2, 'c')\n",
        "circuit = QuantumCircuit(qreg_q, creg_c)\n",
        "\n",
        "circuit.reset(qreg_q[0])\n",
        "circuit.reset(qreg_q[1])\n",
        "circuit.rx(pi / 2, qreg_q[0])\n",
        "circuit.cx(qreg_q[0], qreg_q[1])\n",
        "circuit.measure(qreg_q[0], creg_c[0])\n",
        "circuit.measure(qreg_q[1], creg_c[1])"
      ]
    },
    {
      "cell_type": "markdown",
      "metadata": {
        "id": "wRxJb_3cpg2y"
      },
      "source": [
        "### 3-1.練習一  \n",
        "製造一對 |𝜙+ ⟩\n",
        "\n"
      ]
    },
    {
      "cell_type": "code",
      "execution_count": null,
      "metadata": {
        "id": "lDAa1rndq1br"
      },
      "outputs": [],
      "source": [
        "# 貼上你的程式碼"
      ]
    },
    {
      "cell_type": "markdown",
      "metadata": {
        "id": "S17vIEjfppRT"
      },
      "source": [
        "### 3-2.練習二  \n",
        "製備一對 |𝜓− ⟩"
      ]
    },
    {
      "cell_type": "code",
      "execution_count": null,
      "metadata": {
        "id": "jTG6P6YRq1yo"
      },
      "outputs": [],
      "source": [
        "# 貼上你的程式碼"
      ]
    },
    {
      "cell_type": "markdown",
      "metadata": {
        "id": "NIN48o6ZpsPV"
      },
      "source": [
        "### 3-3.練習三  \n",
        "進階的操作"
      ]
    },
    {
      "cell_type": "code",
      "execution_count": null,
      "metadata": {
        "id": "WoXxkhG6q2KF"
      },
      "outputs": [],
      "source": [
        "# 貼上你的程式碼"
      ]
    },
    {
      "cell_type": "code",
      "execution_count": null,
      "metadata": {
        "id": "QVlL9v91KqC2"
      },
      "outputs": [],
      "source": [
        "# 貼上你的程式碼"
      ]
    },
    {
      "cell_type": "code",
      "execution_count": null,
      "metadata": {
        "id": "0XS72Vt9KqIT"
      },
      "outputs": [],
      "source": [
        "# 貼上你的程式碼"
      ]
    },
    {
      "cell_type": "code",
      "execution_count": null,
      "metadata": {
        "id": "e8wU-KNXKrTj"
      },
      "outputs": [],
      "source": [
        "# 貼上你的程式碼"
      ]
    },
    {
      "cell_type": "markdown",
      "metadata": {
        "id": "ggChoaiaIJk0"
      },
      "source": [
        "### 3-4.練習四  \n",
        "Entanglement Swapping"
      ]
    },
    {
      "cell_type": "code",
      "execution_count": null,
      "metadata": {
        "id": "-EfswXGFIJk0"
      },
      "outputs": [],
      "source": [
        "# 貼上你的程式碼"
      ]
    },
    {
      "cell_type": "markdown",
      "metadata": {
        "id": "_zNCPoT5qivB"
      },
      "source": [
        "### 繪製與模擬\n",
        "請依序執行下列程式碼"
      ]
    },
    {
      "cell_type": "code",
      "execution_count": null,
      "metadata": {
        "id": "nE_QQm2Tqsny"
      },
      "outputs": [],
      "source": [
        "# 繪製電路\n",
        "circuit.draw(output='mpl', filename='fig.png')\n",
        "from IPython.display import Image\n",
        "Image('/content/fig.png')"
      ]
    },
    {
      "cell_type": "code",
      "execution_count": null,
      "metadata": {
        "id": "pwMMmVXNsRMR"
      },
      "outputs": [],
      "source": [
        "# 繪製布洛赫球面\n",
        "qc_no_measure= circuit.remove_final_measurements(inplace=False)\n",
        "state = Statevector.from_instruction(qc_no_measure)\n",
        "plot_bloch_multivector(state)"
      ]
    },
    {
      "cell_type": "code",
      "execution_count": null,
      "metadata": {
        "id": "gQLfm8-eqsny"
      },
      "outputs": [],
      "source": [
        "# 模擬並繪製長條圖\n",
        "backend = Aer.get_backend('qasm_simulator')\n",
        "tqc = transpile(circuit, backend)\n",
        "result = backend.run(tqc).result()\n",
        "counts = result.get_counts(tqc)\n",
        "plot_histogram(counts)"
      ]
    },
    {
      "cell_type": "markdown",
      "metadata": {
        "id": "5s_2GcgsMClF"
      },
      "source": [
        "## 4. IBMQ 量子計算"
      ]
    },
    {
      "cell_type": "markdown",
      "metadata": {
        "id": "P6YRhcOqMHUF"
      },
      "source": [
        "現在你已經會使用 Qiskit 來進行模擬了，現在連線到 IBM 量子計算機上進行量子計算 : )  \n",
        "不過這玩意要排很久的隊，若你的電路執行失敗就需要重排，請執行前注意使用的計算機接受哪些運算。\n",
        "1. 登錄到 [IBM Quantum Experience](https://quantum.ibm.com/).\n",
        "2. 右上角有一個 API Token\n",
        "3. 複製並覆蓋到 `YOUR_API_TOKEN`   "
      ]
    },
    {
      "cell_type": "code",
      "execution_count": null,
      "metadata": {
        "id": "yx1pvW8XO0a7"
      },
      "outputs": [],
      "source": [
        "# 使用API金鑰進行認證\n",
        "service = QiskitRuntimeService(channel='ibm_quantum', token='YOUR_API_TOKEN')\n",
        "\n",
        "# 列出所有可用後端\n",
        "print(\"這些模擬計算機可以使用:\") # 虛擬的通常都不能用了 : /\n",
        "print(service.backends(simulator=True, operational=True))\n",
        "print(\"這些真實計算機可以使用:\")\n",
        "print(service.backends(simulator=False, operational=True))\n",
        "\n"
      ]
    },
    {
      "cell_type": "markdown",
      "metadata": {
        "id": "-4YwoEEDSUc0"
      },
      "source": [
        "可用的量子計算機與其配置可見網站  \n",
        "https://quantum.ibm.com/services/resources"
      ]
    },
    {
      "cell_type": "code",
      "execution_count": null,
      "metadata": {
        "id": "ux6-NUIwQ6pO"
      },
      "outputs": [],
      "source": [
        "# 選擇一個可用的真實量子後端（例如 'ibm_brisbane'）\n",
        "backend = service.backend('ibm_brisbane')"
      ]
    },
    {
      "cell_type": "markdown",
      "metadata": {
        "id": "8bETyG7MP1nH"
      },
      "source": [
        "↓ 這邊寫上你要執行的量子電路"
      ]
    },
    {
      "cell_type": "code",
      "execution_count": null,
      "metadata": {
        "id": "y2FN8ZD3PyHw"
      },
      "outputs": [],
      "source": [
        "# 範例開始\n",
        "qasm = \"\"\"\n",
        "OPENQASM 2.0; include \"qelib1.inc\"; gate rzx(param0) q0,q1 { h q1; cx q0,q1; rz(param0) q1; cx q0,q1; h q1; } gate ecr q0,q1 { rzx(pi/4) q0,q1; x q0; rzx(-pi/4) q0,q1; } qreg q[127]; creg c[2]; reset q[0]; x q[0]; rz(-pi/2) q[0]; reset q[1]; rz(-pi/2) q[1]; sx q[1]; rz(-pi) q[1]; ecr q[1],q[0]; rz(-pi/2) q[0]; sx q[0]; rz(pi/2) q[0]; rz(pi/2) q[1]; sx q[1]; rz(pi/2) q[1]; measure q[0] -> c[0]; measure q[1] -> c[1];\n",
        "\"\"\"\n",
        "circuit = QuantumCircuit.from_qasm_str(qasm)\n",
        "# 範例結束"
      ]
    },
    {
      "cell_type": "code",
      "execution_count": null,
      "metadata": {
        "id": "ZW5TMnUePv8p"
      },
      "outputs": [],
      "source": [
        "# 轉換電路以符合後端需求\n",
        "transpiled_circuit = transpile(circuit, backend)\n",
        "\n",
        "# 設定執行次數（shots）\n",
        "shots = 1024\n",
        "\n",
        "with Session(backend=backend) as session:\n",
        "    sampler = Sampler(session=session)\n",
        "\n",
        "    job = sampler.run([circuit], shots=shots)\n",
        "\n",
        "    # 等待並獲取結果，你大概會卡在這邊\n",
        "    result = job.result()\n",
        "\n",
        "    # 顯示測量結果\n",
        "    counts = result.get_counts(circuit)\n",
        "    print(counts)\n",
        "    plot_histogram(counts)\n",
        "    plt.show()"
      ]
    },
    {
      "cell_type": "markdown",
      "metadata": {
        "id": "mB19GS9FTtDG"
      },
      "source": [
        "## 後記\n"
      ]
    },
    {
      "cell_type": "markdown",
      "metadata": {
        "id": "CiHIK_tjTvwc"
      },
      "source": [
        "這篇筆記是在 2024-08-28 完成，與去年的版本相比更新了非常多東西，主要是 IBM 的程式與套件不斷地更改，導致嚴重的不可兼容性。所以你看到這個筆記時我也不確定還能不能運行。 祝你好運 : )  \n",
        "以下是我在運行時所使用 qiskit 相關套件的版本 :\n",
        "```\n",
        "qiskit                       1.2.0\n",
        "qiskit-aer                   0.15.0\n",
        "qiskit-ibm-runtime           0.28.0\n",
        "```"
      ]
    },
    {
      "cell_type": "code",
      "execution_count": null,
      "metadata": {
        "id": "DoD82WU5Ushs"
      },
      "outputs": [],
      "source": [
        "!pip list | grep qiskit"
      ]
    }
  ],
  "metadata": {
    "colab": {
      "provenance": []
    },
    "kernelspec": {
      "display_name": "Python 3",
      "name": "python3"
    },
    "language_info": {
      "name": "python"
    }
  },
  "nbformat": 4,
  "nbformat_minor": 0
}
